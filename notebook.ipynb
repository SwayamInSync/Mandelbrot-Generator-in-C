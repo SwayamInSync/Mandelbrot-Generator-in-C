{
 "cells": [
  {
   "cell_type": "code",
   "execution_count": null,
   "metadata": {},
   "outputs": [],
   "source": [
    "import mandelbrot\n",
    "import numpy as np\n",
    "import matplotlib.pyplot as plt\n",
    "from ipywidgets import FloatText, IntText, Button, Output, VBox, HBox, Text\n",
    "\n",
    "out = Output()\n",
    "\n",
    "def plot_mandelbrot(width, height, max_iter, center_r, center_i, zoom, dtype):\n",
    "    raw_data, res_dtype = mandelbrot.mandelbrot_set(width, height, max_iter, center_r, center_i, zoom, dtype)\n",
    "    img_array = np.frombuffer(raw_data, dtype=np.uint8).reshape((height, width, 3))\n",
    "    \n",
    "    with out:\n",
    "        out.clear_output(wait=True)\n",
    "        plt.figure(figsize=(10, 10))\n",
    "        plt.imshow(img_array)\n",
    "        plt.axis('off')\n",
    "        plt.title(f'Mandelbrot Set (zoom: {zoom}, center: {center_r} + {center_i}i, iterations: {max_iter}, dtype: {res_dtype})')\n",
    "\n",
    "        plt.show()\n",
    "\n",
    "width = IntText(value=800, description='Width:')\n",
    "height = IntText(value=800, description='Height:')\n",
    "max_iter = IntText(value=1000, description='Max Iterations:')\n",
    "center_r = Text(value=\"-0.75\", description='Center Real:')\n",
    "center_i = Text(value=\"0.0\", description='Center Imag:')\n",
    "zoom = Text(value=\"1.0\", description='Zoom:')\n",
    "dtype = IntText(value=1, description=\"1 => SLEEF, 2=>__float128, 3=>double, 4=>long double\")\n",
    "\n",
    "button = Button(description=\"Generate Mandelbrot\")\n",
    "\n",
    "def on_button_clicked(b):\n",
    "    plot_mandelbrot(width.value, height.value, max_iter.value, center_r.value, center_i.value, zoom.value, dtype.value)\n",
    "\n",
    "button.on_click(on_button_clicked)\n",
    "\n",
    "inputs = VBox([width, height, max_iter, center_r, center_i, zoom, dtype, button])\n",
    "display(HBox([inputs, out]))"
   ]
  },
  {
   "cell_type": "code",
   "execution_count": null,
   "metadata": {},
   "outputs": [],
   "source": []
  }
 ],
 "metadata": {
  "kernelspec": {
   "display_name": "Python 3 (ipykernel)",
   "language": "python",
   "name": "python3"
  },
  "language_info": {
   "codemirror_mode": {
    "name": "ipython",
    "version": 3
   },
   "file_extension": ".py",
   "mimetype": "text/x-python",
   "name": "python",
   "nbconvert_exporter": "python",
   "pygments_lexer": "ipython3",
   "version": "3.10.12"
  }
 },
 "nbformat": 4,
 "nbformat_minor": 4
}
